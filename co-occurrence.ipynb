{
 "cells": [
  {
   "cell_type": "code",
   "execution_count": 1,
   "metadata": {},
   "outputs": [],
   "source": [
    "import json\n",
    "tweets = [json.loads(line) for line in open('/home/class_guest/data/#Egypt.txt')]"
   ]
  },
  {
   "cell_type": "code",
   "execution_count": 2,
   "metadata": {},
   "outputs": [],
   "source": [
    "import nltk\n",
    "\n",
    "def tokenize(text):\n",
    "    return nltk.word_tokenize(text)"
   ]
  },
  {
   "cell_type": "markdown",
   "metadata": {},
   "source": [
    "## Concordance"
   ]
  },
  {
   "cell_type": "code",
   "execution_count": 3,
   "metadata": {},
   "outputs": [],
   "source": [
    "text = nltk.Text([w for t in tweets for w in tokenize(t['text'])])"
   ]
  },
  {
   "cell_type": "code",
   "execution_count": 4,
   "metadata": {},
   "outputs": [
    {
     "name": "stdout",
     "output_type": "stream",
     "text": [
      "Displaying 25 of 313 matches:\n",
      " [ Into this ] RT @ EyeOnFreedom : # Obama will be remembered as the President \n",
      "er , SW1X 8RL , # Egypt # jan25 # uk Obama asks Mubarak to write a farewell spe\n",
      " of the New World . # Egypt # US : # Obama says that in order to help # Egypt ,\n",
      "Egypt # Jan24 RT @ cnnbrk : Barack # Obama to address situation in # Egypt with\n",
      "http : //bit.ly/hy2nnl @ speak2tweet Obama Says He Will Re-send Message to Muba\n",
      "on.cnn.com/f8wNT9 # Egypt RT @ CNN : Obama : I told Mubarak he must deliver on \n",
      " Jan25 # Egypt # US Thank goodness # Obama was n't a civil rights leader , or w\n",
      "involved '' Issa demands docs from # Obama just as # Egypt rioting begins . mm \n",
      "ionary consciousness grows . # Egypt Obama : `` It 's for people of # Egypt to \n",
      "rowitzReport : So all this time when Obama was talking about change , I guess h\n",
      "se sign @ AccessNow 's petition to # Obama to withhold aid until # Egypt # Jan2\n",
      "se sign @ AccessNow 's petition to # Obama to withhold aid until # Egypt # Jan2\n",
      " # Jan25 # Tahrir # Palin criticizes Obama on # Egypt ( in one of the most horr\n",
      " ) - WRAPUP 11-Mubarak meets army as Obama urges reform http : //bit.ly/gsiU42 \n",
      "are safe too . RT @ BillyHallowell : Obama 's between rock/a hard place # Egypt\n",
      "yP The trouble wth Egypt : What will Obama make of this ? : The U.S. President \n",
      "h : http : //wapo.st/fQz7Dn Barack # Obama to address situation in # Egypt with\n",
      "tp : //on.cnn.com/gdJ61m Waiting for Obama 's comments on Egypt 's elections de\n",
      "hrir People in Tahrir square begging Obama to intervene . They are terrified a \n",
      "`` just business '' Set back for the Obama ; # health # care bill deemed uncons\n",
      "s revolution http : //huff.to/iiy0Ro Obama Tells Mubarak It 's Time To Hit The \n",
      " … @ politicususa # p2 # p2b # du1 # Obama # Egypt # Mubarak # transition # fre\n",
      "58 This is amazing . # Egypt # jan25 Obama I want a chateau in Switzerland , te\n",
      "e ! # Arabrevolution # Egypt # Syria Obama pushes on job creation , amid din ov\n",
      "d # Egypt for 30 years . # Jan25 The Obama administration has just lost the mor\n"
     ]
    }
   ],
   "source": [
    "text.concordance('obama')"
   ]
  },
  {
   "cell_type": "code",
   "execution_count": 5,
   "metadata": {
    "scrolled": true
   },
   "outputs": [
    {
     "name": "stdout",
     "output_type": "stream",
     "text": [
      "Displaying 25 of 2117 matches:\n",
      " # Jan25 # Egypt RT @ meenadimian : Mubarak : 30 years of oppressive greed is o\n",
      "8RL , # Egypt # jan31 # uk Egypt 's Mubarak orders the new government to start \n",
      "abiya.net/en_default.html # Egypt # Mubarak It 's a stand off with # Mubarak an\n",
      " # Mubarak It 's a stand off with # Mubarak and civilians . Mubarak is tryin 2 \n",
      " off with # Mubarak and civilians . Mubarak is tryin 2 make shit really chaotic\n",
      "L , # Egypt # jan25 # uk Obama asks Mubarak to write a farewell speech for the \n",
      " a farewell speech for the people . Mubarak responds `` Why ? Where are they go\n",
      "31/opinion/31douthat.html # Jan25 # Mubarak # Torture . @ RumsfeldOffice you ha\n",
      "addowBlog : Gripping description of Mubarak administration destroying records :\n",
      "ck up and running # Egypt # Jan25 # mubarak @ monaeltahawy Lets call them for w\n",
      " # Egypt revolution is peaceful . # Mubarak sent in thugs 2 turn it violent . H\n",
      "lution . # Jan25 It is evident that Mubarak does n't care about his country but\n",
      "# Egypt . @ BBCNews reporting pro # Mubarak `` supporters '' admit they have be\n",
      "ered them stay home # JAN25 # Egypt Mubarak looks terrified in the photo on ITV\n",
      "forum/viewtopic.php ? f=4 & t=13943 Mubarak ’ s new deputy linked to CIA rendit\n",
      "ORTANT POST - PLEASE RT WIDELY Will Mubarak flee # Egypt like Ben Ali fled Tuni\n",
      "special programme looking at Egyp # Mubarak . RT @ EthanZ : Reactions around th\n",
      "anZ : Reactions around the world to Mubarak 's speech last night - http : //bit\n",
      "█████░ 99 % [ Error : Please remove Mubarak and try again ! ] # Jan25 # Egypt #\n",
      "and try again ! ] # Jan25 # Egypt # Mubarak # Tahrir Not to incur any leftover \n",
      "s that in order to help # Egypt , # Mubarak needs to listen to the messages of \n",
      "d ( cont ) http : //tl.gd/8fqfhs Is Mubarak pres . in name only ? G : `` This i\n",
      "'ve given up trying to second-guess Mubarak . http : //bit.ly/hurp9x # Jan25 # \n",
      " newspaper http : //bit.ly/f8z6QA # mubarak # jan25 # Tahrir # Egypt # Cairo # \n",
      "WfKlr | Word . # Anarchists Hmm . # Mubarak makes speech , angers masses , and \n"
     ]
    }
   ],
   "source": [
    "text.concordance('mubarak')"
   ]
  },
  {
   "cell_type": "code",
   "execution_count": 6,
   "metadata": {
    "scrolled": true
   },
   "outputs": [
    {
     "name": "stdout",
     "output_type": "stream",
     "text": [
      "egypt mubarak http tahrir cairo and it is as in this from us\n",
      "revolution protests he if rt fb the\n"
     ]
    }
   ],
   "source": [
    "text.similar('obama')"
   ]
  },
  {
   "cell_type": "code",
   "execution_count": 7,
   "metadata": {
    "scrolled": true
   },
   "outputs": [
    {
     "name": "stdout",
     "output_type": "stream",
     "text": [
      "egypt http tahrir the cairo it and in rt this revolution us people\n",
      "obama protesters what protests to he now\n"
     ]
    }
   ],
   "source": [
    "text.similar('mubarak')"
   ]
  },
  {
   "cell_type": "code",
   "execution_count": 8,
   "metadata": {},
   "outputs": [],
   "source": [
    "import gensim.downloader as api\n",
    "pretrained_model = api.load('glove-wiki-gigaword-50')"
   ]
  },
  {
   "cell_type": "code",
   "execution_count": 9,
   "metadata": {},
   "outputs": [
    {
     "data": {
      "text/plain": [
       "[('queen', 0.8523604273796082),\n",
       " ('throne', 0.7664334177970886),\n",
       " ('prince', 0.7592143416404724),\n",
       " ('daughter', 0.7473883032798767),\n",
       " ('elizabeth', 0.74602210521698),\n",
       " ('princess', 0.7424570322036743),\n",
       " ('kingdom', 0.7337411642074585),\n",
       " ('monarch', 0.7214490175247192),\n",
       " ('eldest', 0.7184862494468689),\n",
       " ('widow', 0.7099431157112122)]"
      ]
     },
     "execution_count": 9,
     "metadata": {},
     "output_type": "execute_result"
    }
   ],
   "source": [
    "pretrained_model.most_similar(positive=['king', 'woman'], negative=['man'])"
   ]
  },
  {
   "cell_type": "code",
   "execution_count": 10,
   "metadata": {},
   "outputs": [],
   "source": [
    "from gensim.models import Word2Vec\n",
    "texts = [[w for w in tokenize(t['text'])] for t in tweets]\n",
    "model = Word2Vec(texts, size=100, window=2, min_count=1, workers=4)"
   ]
  },
  {
   "cell_type": "code",
   "execution_count": 11,
   "metadata": {},
   "outputs": [
    {
     "data": {
      "text/plain": [
       "[('//aje.me/i1KYA6', 0.9667305946350098),\n",
       " ('//tinyurl.com/63o528x', 0.9649249315261841),\n",
       " ('//tinyurl.com/5um5lm7', 0.9606650471687317),\n",
       " ('//aje.me/ajelive', 0.9583842754364014),\n",
       " ('//apne.ws/gMFh74', 0.9523006081581116),\n",
       " ('//tinyurl.com/6hn9pbd', 0.9507261514663696),\n",
       " ('FreeEgypt', 0.9496461153030396),\n",
       " ('//tinyurl.com/4p3qx4z', 0.9493927955627441),\n",
       " ('ALERT', 0.9490413069725037),\n",
       " ('//bit.ly/fAwVK7', 0.9479269981384277)]"
      ]
     },
     "execution_count": 11,
     "metadata": {},
     "output_type": "execute_result"
    }
   ],
   "source": [
    "model.wv.most_similar('obama')"
   ]
  },
  {
   "cell_type": "code",
   "execution_count": 12,
   "metadata": {
    "scrolled": true
   },
   "outputs": [
    {
     "data": {
      "text/plain": [
       "[('Jordan', 0.9963494539260864),\n",
       " ('egypt', 0.9951579570770264),\n",
       " ('Yemen', 0.9950136542320251),\n",
       " ('Sudan', 0.9941403865814209),\n",
       " ('Tunisia', 0.9938969016075134),\n",
       " ('Lebanon', 0.9933261275291443),\n",
       " ('USA', 0.9925858378410339),\n",
       " ('8RL', 0.9925146698951721),\n",
       " ('cairo', 0.9923290014266968),\n",
       " ('humanrights', 0.9921650886535645)]"
      ]
     },
     "execution_count": 12,
     "metadata": {},
     "output_type": "execute_result"
    }
   ],
   "source": [
    "model.wv.most_similar('mubarak')"
   ]
  },
  {
   "cell_type": "markdown",
   "metadata": {},
   "source": [
    "## Topic Modeling"
   ]
  },
  {
   "cell_type": "code",
   "execution_count": 13,
   "metadata": {},
   "outputs": [],
   "source": [
    "from sklearn.decomposition import LatentDirichletAllocation\n",
    "from sklearn.feature_extraction.text import CountVectorizer\n",
    "\n",
    "tf_vectorizer = CountVectorizer(max_df=0.1, min_df=2, \n",
    "                                max_features=10000, stop_words='english')\n",
    "tf = tf_vectorizer.fit_transform([' '.join(nltk.word_tokenize(t['text'])) for t in tweets])"
   ]
  },
  {
   "cell_type": "code",
   "execution_count": 14,
   "metadata": {},
   "outputs": [
    {
     "data": {
      "text/plain": [
       "LatentDirichletAllocation(batch_size=128, doc_topic_prior=None,\n",
       "                          evaluate_every=-1, learning_decay=0.7,\n",
       "                          learning_method='online', learning_offset=10.0,\n",
       "                          max_doc_update_iter=100, max_iter=10,\n",
       "                          mean_change_tol=0.001, n_components=3, n_jobs=None,\n",
       "                          perp_tol=0.1, random_state=0, topic_word_prior=None,\n",
       "                          total_samples=1000000.0, verbose=0)"
      ]
     },
     "execution_count": 14,
     "metadata": {},
     "output_type": "execute_result"
    }
   ],
   "source": [
    "lda = LatentDirichletAllocation(n_components=3, max_iter=10,\n",
    "                                learning_method='online', random_state=0)\n",
    "lda.fit(tf)"
   ]
  },
  {
   "cell_type": "code",
   "execution_count": 15,
   "metadata": {
    "scrolled": true
   },
   "outputs": [
    {
     "name": "stdout",
     "output_type": "stream",
     "text": [
      "Topic #0: people today revolution egyptian square aje just army president ow democracy day streets obama military protest say protesters want pro\n",
      "Topic #1: twitter aljazeera news com world egyptian freedom new protests tv www israel support state people facebook fb journalists st google\n",
      "Topic #2: com al jazeera police protesters internet cnn live square protests video watch government egyptian leave tinyurl security reports muslim twitpic\n",
      "\n"
     ]
    }
   ],
   "source": [
    "def print_top_words(model, feature_names, n_top_words):\n",
    "    for topic_idx, topic in enumerate(model.components_):\n",
    "        message = \"Topic #%d: \" % topic_idx\n",
    "        message += \" \".join([feature_names[i]\n",
    "                             for i in topic.argsort()[:-n_top_words - 1:-1]])\n",
    "        print(message)\n",
    "    print()\n",
    "    \n",
    "print_top_words(lda, tf_vectorizer.get_feature_names(), n_top_words=20)"
   ]
  },
  {
   "cell_type": "code",
   "execution_count": 16,
   "metadata": {
    "scrolled": true
   },
   "outputs": [
    {
     "name": "stdout",
     "output_type": "stream",
     "text": [
      "RT @bandhan1983: @ttorongo use hashtag: #Egypt #Protest and all those relating words.\n",
      "[[0.63252948 0.06890542 0.2985651 ]]\n",
      "\n",
      "RT @WissemRiahi For Egyptian:solution to bypass fb censorship use one of the following IPs:http://pastebin.com/pWv4spkR #25Jan #Jan25 #Egypt\n",
      "[[0.02831068 0.81283092 0.1588584 ]]\n",
      "\n",
      "RT @meenadimian: Mubarak: 30 years of oppressive greed is one thing, but shutting down Twitter...that's just offensive. #Jan25 #Egypt\n",
      "[[0.18988825 0.77208967 0.03802208]]\n",
      "\n",
      "Egyptian state television shows hundreds arrested in anti-government demonstrations. Video. http://bit.ly/g66BjA #Egypt #Jan25\n",
      "[[0.03230504 0.03223913 0.93545582]]\n",
      "\n",
      "@bencnn Protest @ Gamal's Home in London! Today (Mon) 4 - 6pm, 28 Wilton Place Westminster, SW1X 8RL, #Egypt #jan31 #uk\n",
      "[[0.96059901 0.01966476 0.01973623]]\n",
      "\n",
      "@PartyatGamals Mohamed ElBaradei: Globalist Pied Piper Of The #Egypt Revolt http://me.lt/0v82Q read this & be informed\n",
      "[[0.13976527 0.03506852 0.82516621]]\n",
      "\n",
      "Just out: Israeli website Globes: NDP (thug) Hussein Salem caught in Dubai with $500m http://bit.ly/f391zx #Egypt #Jan25\n",
      "[[0.82216318 0.13428375 0.04355307]]\n",
      "\n",
      "Things I've learned from Twitter #331: there sure are a LOT of #Egypt experts.\n",
      "[[0.75849866 0.19922625 0.04227509]]\n",
      "\n",
      "I'm Muslim and Sheikh-AlAzhar doesn't represent me . #Egypt #Jan25\n",
      "[[0.08021322 0.1812497  0.73853708]]\n",
      "\n",
      "[Into this] RT @EyeOnFreedom: #Obama will be remembered as the President who lost #Egypt .see all my #reactions http://bit.ly/fVVdw6\n",
      "[[0.85879821 0.07424248 0.06695931]]\n",
      "\n"
     ]
    }
   ],
   "source": [
    "for i, tweet in enumerate(tweets[:10]):\n",
    "    print(tweet['text'])\n",
    "    print(lda.transform(tf[i]))\n",
    "    print()"
   ]
  },
  {
   "cell_type": "markdown",
   "metadata": {},
   "source": [
    "## Decision Tree"
   ]
  },
  {
   "cell_type": "code",
   "execution_count": 17,
   "metadata": {},
   "outputs": [],
   "source": [
    "X = [vec.todense() for vec in tf]\n",
    "y = [tweet['created_at'][:6] for tweet in tweets]"
   ]
  },
  {
   "cell_type": "code",
   "execution_count": 18,
   "metadata": {},
   "outputs": [
    {
     "data": {
      "text/plain": [
       "DecisionTreeClassifier(ccp_alpha=0.0, class_weight=None, criterion='entropy',\n",
       "                       max_depth=4, max_features=None, max_leaf_nodes=None,\n",
       "                       min_impurity_decrease=0.0, min_impurity_split=None,\n",
       "                       min_samples_leaf=1, min_samples_split=2,\n",
       "                       min_weight_fraction_leaf=0.0, presort='deprecated',\n",
       "                       random_state=None, splitter='best')"
      ]
     },
     "execution_count": 18,
     "metadata": {},
     "output_type": "execute_result"
    }
   ],
   "source": [
    "from sklearn.tree import DecisionTreeClassifier\n",
    "dt = DecisionTreeClassifier(criterion='entropy', max_depth=4)\n",
    "dt.fit(tf, y)"
   ]
  },
  {
   "cell_type": "code",
   "execution_count": 19,
   "metadata": {},
   "outputs": [],
   "source": [
    "from sklearn.tree import export_graphviz\n",
    "vocabulary = tf_vectorizer.get_feature_names()\n",
    "export_graphviz(dt, out_file='tree.dot', feature_names=vocabulary, class_names=dt.classes_)"
   ]
  },
  {
   "cell_type": "code",
   "execution_count": 20,
   "metadata": {},
   "outputs": [
    {
     "name": "stdout",
     "output_type": "stream",
     "text": [
      "digraph Tree {\r\n",
      "node [shape=box] ;\r\n",
      "0 [label=\"freeayman <= 0.5\\nentropy = 3.68\\nsamples = 11940\\nvalue = [1, 1110, 525, 6, 1156, 468, 8, 833, 314, 329, 1322\\n296, 1318, 211, 1154, 359, 1591, 939]\\nclass = 金 1 28\"] ;\r\n",
      "1 [label=\"pro <= 0.5\\nentropy = 3.671\\nsamples = 11846\\nvalue = [1, 1110, 525, 6, 1156, 375, 8, 833, 313, 329, 1322\\n296, 1318, 211, 1154, 359, 1591, 939]\\nclass = 金 1 28\"] ;\r\n",
      "0 -> 1 [labeldistance=2.5, labelangle=45, headlabel=\"True\"] ;\r\n",
      "2 [label=\"ghonim <= 0.5\\nentropy = 3.678\\nsamples = 11557\\nvalue = [1, 1108, 521, 6, 1156, 375, 8, 831, 312, 328, 1257\\n295, 1162, 208, 1140, 351, 1585, 913]\\nclass = 金 1 28\"] ;\r\n",
      "1 -> 2 ;\r\n",
      "3 [label=\"police <= 0.5\\nentropy = 3.664\\nsamples = 11432\\nvalue = [1, 1108, 516, 6, 1156, 361, 8, 827, 259, 323, 1256\\n291, 1157, 208, 1137, 324, 1583, 911]\\nclass = 金 1 28\"] ;\r\n",
      "2 -> 3 ;\r\n",
      "4 [label=\"entropy = 3.666\\nsamples = 10959\\nvalue = [0, 1033, 507, 6, 1125, 356, 8, 808, 254, 305, 1206\\n255, 1133, 190, 1122, 317, 1435, 899]\\nclass = 金 1 28\"] ;\r\n",
      "3 -> 4 ;\r\n",
      "5 [label=\"entropy = 3.241\\nsamples = 473\\nvalue = [1, 75, 9, 0, 31, 5, 0, 19, 5, 18, 50, 36, 24\\n18, 15, 7, 148, 12]\\nclass = 金 1 28\"] ;\r\n",
      "3 -> 5 ;\r\n",
      "6 [label=\"missing <= 0.5\\nentropy = 2.607\\nsamples = 125\\nvalue = [0, 0, 5, 0, 0, 14, 0, 4, 53, 5, 1, 4, 5, 0\\n3, 27, 2, 2]\\nclass = 月 2 7 \"] ;\r\n",
      "2 -> 6 ;\r\n",
      "7 [label=\"entropy = 2.252\\nsamples = 112\\nvalue = [0, 0, 2, 0, 0, 12, 0, 0, 53, 5, 0, 4, 5, 0\\n1, 27, 2, 1]\\nclass = 月 2 7 \"] ;\r\n",
      "6 -> 7 ;\r\n",
      "8 [label=\"entropy = 2.412\\nsamples = 13\\nvalue = [0, 0, 3, 0, 0, 2, 0, 4, 0, 0, 1, 0, 0, 0\\n2, 0, 0, 1]\\nclass = 月 1 31\"] ;\r\n",
      "6 -> 8 ;\r\n",
      "9 [label=\"democracy <= 0.5\\nentropy = 2.086\\nsamples = 289\\nvalue = [0, 2, 4, 0, 0, 0, 0, 2, 1, 1, 65, 1, 156, 3\\n14, 8, 6, 26]\\nclass = 水 2 2 \"] ;\r\n",
      "1 -> 9 ;\r\n",
      "10 [label=\"vodafone <= 0.5\\nentropy = 1.791\\nsamples = 245\\nvalue = [0, 2, 4, 0, 0, 0, 0, 0, 0, 1, 48, 0, 149, 1\\n13, 5, 1, 21]\\nclass = 水 2 2 \"] ;\r\n",
      "9 -> 10 ;\r\n",
      "11 [label=\"entropy = 1.71\\nsamples = 231\\nvalue = [0, 2, 3, 0, 0, 0, 0, 0, 0, 1, 38, 0, 149, 1\\n13, 4, 1, 19]\\nclass = 水 2 2 \"] ;\r\n",
      "10 -> 11 ;\r\n",
      "12 [label=\"entropy = 1.292\\nsamples = 14\\nvalue = [0, 0, 1, 0, 0, 0, 0, 0, 0, 0, 10, 0, 0, 0\\n0, 1, 0, 2]\\nclass = 木 2 3 \"] ;\r\n",
      "10 -> 12 ;\r\n",
      "13 [label=\"elbaradei <= 0.5\\nentropy = 2.707\\nsamples = 44\\nvalue = [0, 0, 0, 0, 0, 0, 0, 2, 1, 0, 17, 1, 7, 2\\n1, 3, 5, 5]\\nclass = 木 2 3 \"] ;\r\n",
      "9 -> 13 ;\r\n",
      "14 [label=\"entropy = 2.478\\nsamples = 39\\nvalue = [0, 0, 0, 0, 0, 0, 0, 2, 1, 0, 17, 1, 7, 2\\n0, 3, 1, 5]\\nclass = 木 2 3 \"] ;\r\n",
      "13 -> 14 ;\r\n",
      "15 [label=\"entropy = 0.722\\nsamples = 5\\nvalue = [0, 0, 0, 0, 0, 0, 0, 0, 0, 0, 0, 0, 0, 0\\n1, 0, 4, 0]\\nclass = 金 1 28\"] ;\r\n",
      "13 -> 15 ;\r\n",
      "16 [label=\"update <= 0.5\\nentropy = 0.085\\nsamples = 94\\nvalue = [0, 0, 0, 0, 0, 93, 0, 0, 1, 0, 0, 0, 0, 0\\n0, 0, 0, 0]\\nclass = 日 2 6 \"] ;\r\n",
      "0 -> 16 [labeldistance=2.5, labelangle=-45, headlabel=\"False\"] ;\r\n",
      "17 [label=\"entropy = 0.0\\nsamples = 93\\nvalue = [0, 0, 0, 0, 0, 93, 0, 0, 0, 0, 0, 0, 0, 0\\n0, 0, 0, 0]\\nclass = 日 2 6 \"] ;\r\n",
      "16 -> 17 ;\r\n",
      "18 [label=\"entropy = 0.0\\nsamples = 1\\nvalue = [0, 0, 0, 0, 0, 0, 0, 0, 1, 0, 0, 0, 0, 0\\n0, 0, 0, 0]\\nclass = 月 2 7 \"] ;\r\n",
      "16 -> 18 ;\r\n",
      "}"
     ]
    }
   ],
   "source": [
    "!cat tree.dot"
   ]
  },
  {
   "cell_type": "markdown",
   "metadata": {},
   "source": [
    "The tree.dot can be visualized by using a web service such as http://www.webgraphviz.com/\n",
    "(Just copy the output of the cell above and paste in the form in this URL.)"
   ]
  },
  {
   "cell_type": "markdown",
   "metadata": {},
   "source": [
    "## Sentiment classification on review dataset"
   ]
  },
  {
   "cell_type": "code",
   "execution_count": 21,
   "metadata": {},
   "outputs": [
    {
     "name": "stdout",
     "output_type": "stream",
     "text": [
      "digraph Tree {\r\n",
      "node [shape=box] ;\r\n",
      "0 [label=\"stupid <= 0.5\\nentropy = 1.0\\nsamples = 2000\\nvalue = [1000, 1000]\\nclass = neg\"] ;\r\n",
      "1 [label=\"awful <= 0.5\\nentropy = 0.997\\nsamples = 1806\\nvalue = [845, 961]\\nclass = pos\"] ;\r\n",
      "0 -> 1 [labeldistance=2.5, labelangle=45, headlabel=\"True\"] ;\r\n",
      "2 [label=\"wasted <= 0.5\\nentropy = 0.991\\nsamples = 1697\\nvalue = [755, 942]\\nclass = pos\"] ;\r\n",
      "1 -> 2 ;\r\n",
      "3 [label=\"lame <= 0.5\\nentropy = 0.983\\nsamples = 1610\\nvalue = [682, 928]\\nclass = pos\"] ;\r\n",
      "2 -> 3 ;\r\n",
      "4 [label=\"entropy = 0.974\\nsamples = 1538\\nvalue = [623, 915]\\nclass = pos\"] ;\r\n",
      "3 -> 4 ;\r\n",
      "5 [label=\"entropy = 0.681\\nsamples = 72\\nvalue = [59, 13]\\nclass = neg\"] ;\r\n",
      "3 -> 5 ;\r\n",
      "6 [label=\"terrific <= 0.5\\nentropy = 0.637\\nsamples = 87\\nvalue = [73, 14]\\nclass = neg\"] ;\r\n",
      "2 -> 6 ;\r\n",
      "7 [label=\"entropy = 0.531\\nsamples = 83\\nvalue = [73, 10]\\nclass = neg\"] ;\r\n",
      "6 -> 7 ;\r\n",
      "8 [label=\"entropy = 0.0\\nsamples = 4\\nvalue = [0, 4]\\nclass = pos\"] ;\r\n",
      "6 -> 8 ;\r\n",
      "9 [label=\"flaws <= 0.5\\nentropy = 0.667\\nsamples = 109\\nvalue = [90, 19]\\nclass = neg\"] ;\r\n",
      "1 -> 9 ;\r\n",
      "10 [label=\"nc <= 0.5\\nentropy = 0.554\\nsamples = 101\\nvalue = [88, 13]\\nclass = neg\"] ;\r\n",
      "9 -> 10 ;\r\n",
      "11 [label=\"entropy = 0.475\\nsamples = 98\\nvalue = [88, 10]\\nclass = neg\"] ;\r\n",
      "10 -> 11 ;\r\n",
      "12 [label=\"entropy = 0.0\\nsamples = 3\\nvalue = [0, 3]\\nclass = pos\"] ;\r\n",
      "10 -> 12 ;\r\n",
      "13 [label=\"cold <= 0.5\\nentropy = 0.811\\nsamples = 8\\nvalue = [2, 6]\\nclass = pos\"] ;\r\n",
      "9 -> 13 ;\r\n",
      "14 [label=\"entropy = 0.0\\nsamples = 6\\nvalue = [0, 6]\\nclass = pos\"] ;\r\n",
      "13 -> 14 ;\r\n",
      "15 [label=\"entropy = 0.0\\nsamples = 2\\nvalue = [2, 0]\\nclass = neg\"] ;\r\n",
      "13 -> 15 ;\r\n",
      "16 [label=\"spoil <= 0.5\\nentropy = 0.724\\nsamples = 194\\nvalue = [155, 39]\\nclass = neg\"] ;\r\n",
      "0 -> 16 [labeldistance=2.5, labelangle=-45, headlabel=\"False\"] ;\r\n",
      "17 [label=\"brilliant <= 1.5\\nentropy = 0.689\\nsamples = 190\\nvalue = [155, 35]\\nclass = neg\"] ;\r\n",
      "16 -> 17 ;\r\n",
      "18 [label=\"hilarious <= 0.5\\nentropy = 0.65\\nsamples = 186\\nvalue = [155, 31]\\nclass = neg\"] ;\r\n",
      "17 -> 18 ;\r\n",
      "19 [label=\"entropy = 0.552\\nsamples = 164\\nvalue = [143, 21]\\nclass = neg\"] ;\r\n",
      "18 -> 19 ;\r\n",
      "20 [label=\"entropy = 0.994\\nsamples = 22\\nvalue = [12, 10]\\nclass = neg\"] ;\r\n",
      "18 -> 20 ;\r\n",
      "21 [label=\"entropy = 0.0\\nsamples = 4\\nvalue = [0, 4]\\nclass = pos\"] ;\r\n",
      "17 -> 21 ;\r\n",
      "22 [label=\"entropy = 0.0\\nsamples = 4\\nvalue = [0, 4]\\nclass = pos\"] ;\r\n",
      "16 -> 22 ;\r\n",
      "}"
     ]
    }
   ],
   "source": [
    "from nltk.corpus import movie_reviews\n",
    "\n",
    "documents = [(movie_reviews.raw(fileid), category) \n",
    "             for category in movie_reviews.categories() \n",
    "             for fileid in movie_reviews.fileids(category)]\n",
    "\n",
    "documents[0]\n",
    "\n",
    "tf_vectorizer = CountVectorizer(max_df=0.1, min_df=2, max_features=10000, stop_words='english')\n",
    "tf = tf_vectorizer.fit_transform([' '.join(nltk.word_tokenize(d)) for d, c in documents])\n",
    "y = [c for d, c in documents]\n",
    "\n",
    "from sklearn.tree import DecisionTreeClassifier\n",
    "dt = DecisionTreeClassifier(criterion='entropy', max_depth=4)\n",
    "dt.fit(tf, y)\n",
    "\n",
    "from sklearn.tree import export_graphviz\n",
    "vocabulary = tf_vectorizer.get_feature_names()\n",
    "export_graphviz(dt, out_file='tree.dot', feature_names=vocabulary, class_names=dt.classes_)\n",
    "\n",
    "!cat tree.dot"
   ]
  }
 ],
 "metadata": {
  "anaconda-cloud": {},
  "kernelspec": {
   "display_name": "Python 3",
   "language": "python",
   "name": "python3"
  },
  "language_info": {
   "codemirror_mode": {
    "name": "ipython",
    "version": 3
   },
   "file_extension": ".py",
   "mimetype": "text/x-python",
   "name": "python",
   "nbconvert_exporter": "python",
   "pygments_lexer": "ipython3",
   "version": "3.7.6"
  }
 },
 "nbformat": 4,
 "nbformat_minor": 4
}
