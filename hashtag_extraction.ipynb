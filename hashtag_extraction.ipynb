{
 "cells": [
  {
   "cell_type": "code",
   "execution_count": 1,
   "metadata": {},
   "outputs": [],
   "source": [
    "import json\n",
    "tweets = [json.loads(line) for line in open('/home/class_guest/data/tweets2011_en.json')]"
   ]
  },
  {
   "cell_type": "code",
   "execution_count": 2,
   "metadata": {},
   "outputs": [
    {
     "data": {
      "text/plain": [
       "3856497"
      ]
     },
     "execution_count": 2,
     "metadata": {},
     "output_type": "execute_result"
    }
   ],
   "source": [
    "len(tweets)"
   ]
  },
  {
   "cell_type": "code",
   "execution_count": 3,
   "metadata": {},
   "outputs": [
    {
     "data": {
      "text/plain": [
       "{'text': \"it's a double tights kinda day in NYC. #brrrrrrr\",\n",
       " 'id_str': '30296671778775040',\n",
       " 'id': 30296671778775040,\n",
       " 'created_at': '水 1 26 16:11:04 +0000 2011',\n",
       " 'retweeted': False,\n",
       " 'retweet_count': 0,\n",
       " 'favorited': False,\n",
       " 'user': {'id_str': '42654288',\n",
       "  'id': 42654288,\n",
       "  'screen_name': 'jessicadevaney',\n",
       "  'name': 'Jessica Devaney'},\n",
       " 'requested_id': 30296671778775040}"
      ]
     },
     "execution_count": 3,
     "metadata": {},
     "output_type": "execute_result"
    }
   ],
   "source": [
    "tweets[1]"
   ]
  },
  {
   "cell_type": "code",
   "execution_count": 4,
   "metadata": {},
   "outputs": [],
   "source": [
    "import re\n",
    "re_hashtag = re.compile('#\\w+')"
   ]
  },
  {
   "cell_type": "code",
   "execution_count": 5,
   "metadata": {},
   "outputs": [],
   "source": [
    "from collections import Counter\n",
    "counter = Counter()\n",
    "for t in tweets:\n",
    "    counter.update(re_hashtag.findall(t['text']))"
   ]
  },
  {
   "cell_type": "code",
   "execution_count": 6,
   "metadata": {},
   "outputs": [
    {
     "data": {
      "text/plain": [
       "[('#Egypt', 12027),\n",
       " ('#FF', 9709),\n",
       " ('#nowplaying', 9200),\n",
       " ('#Jan25', 7051),\n",
       " ('#jan25', 6816),\n",
       " ('#np', 6771),\n",
       " ('#fb', 5941),\n",
       " ('#egypt', 4349),\n",
       " ('#superbowl', 4003),\n",
       " ('#jobs', 3907),\n",
       " ('#NowPlaying', 3516),\n",
       " ('#icantdateyou', 3322),\n",
       " ('#1', 3255),\n",
       " ('#TeamFollowBack', 3231),\n",
       " ('#NP', 3208),\n",
       " ('#ff', 3170),\n",
       " ('#news', 2884),\n",
       " ('#tcot', 2860),\n",
       " ('#teamfollowback', 2713),\n",
       " ('#ZodiacFacts', 2308),\n",
       " ('#SOTU', 2227),\n",
       " ('#famouslies', 2022),\n",
       " ('#improudtosay', 1990),\n",
       " ('#shoutout', 1869),\n",
       " ('#music', 1855),\n",
       " ('#DamnItsTrue', 1847),\n",
       " ('#TFB', 1798),\n",
       " ('#p2', 1771),\n",
       " ('#idontunderstandwhy', 1767),\n",
       " ('#wheniwaslittle', 1712),\n",
       " ('#MobsterWorld', 1660),\n",
       " ('#quote', 1610),\n",
       " ('#RT', 1581),\n",
       " ('#SuperBowl', 1577),\n",
       " ('#Twitition', 1500),\n",
       " ('#random', 1463),\n",
       " ('#Jobs', 1461),\n",
       " ('#blackparentquotes', 1434),\n",
       " ('#Mubarak', 1429),\n",
       " ('#TEAMFOLLOWBACK', 1420),\n",
       " ('#2', 1386),\n",
       " ('#lastfm', 1369),\n",
       " ('#oneofmyfollowers', 1312),\n",
       " ('#win', 1269),\n",
       " ('#fail', 1244),\n",
       " ('#smh', 1209),\n",
       " ('#job', 1185),\n",
       " ('#Tahrir', 1185),\n",
       " ('#iphone', 1156),\n",
       " ('#giveaway', 1137),\n",
       " ('#Packers', 1132),\n",
       " ('#sotu', 1072),\n",
       " ('#Steelers', 1069),\n",
       " ('#thingsweallhate', 1048),\n",
       " ('#BieberD3D', 1047),\n",
       " ('#sougofollow', 1022),\n",
       " ('#neversaynever', 1019),\n",
       " ('#Pisces', 1018),\n",
       " ('#questionsidontlike', 1017),\n",
       " ('#agoodboyfriend', 983),\n",
       " ('#ipad', 967),\n",
       " ('#nw', 964),\n",
       " ('#followback', 937),\n",
       " ('#NML', 935),\n",
       " ('#follow', 932),\n",
       " ('#travel', 917),\n",
       " ('#FamousLies', 913),\n",
       " ('#scariestwordsever', 913),\n",
       " ('#Superbowl', 903),\n",
       " ('#3', 894),\n",
       " ('#realestate', 886),\n",
       " ('#MuchMusic', 882),\n",
       " ('#socialmedia', 881),\n",
       " ('#SFO', 878),\n",
       " ('#LFC', 877),\n",
       " ('#Follow', 871),\n",
       " ('#ifyouonlyknew', 864),\n",
       " ('#oomf', 859),\n",
       " ('#NEVERSAYNEVER3D', 845),\n",
       " ('#aretheworst', 844),\n",
       " ('#News', 828),\n",
       " ('#NFL', 827),\n",
       " ('#in', 823),\n",
       " ('#iTunes', 816),\n",
       " ('#donttrusther', 814),\n",
       " ('#Cairo', 812),\n",
       " ('#followme', 809),\n",
       " ('#backintheday', 807),\n",
       " ('#Np', 807),\n",
       " ('#fact', 802),\n",
       " ('#android', 789),\n",
       " ('#thatisall', 779),\n",
       " ('#februarywish', 773),\n",
       " ('#photography', 771),\n",
       " ('#howareyouathug', 771),\n",
       " ('#health', 769),\n",
       " ('#4', 763),\n",
       " ('#craigslist', 762),\n",
       " ('#Shoutout', 735),\n",
       " ('#justsayin', 735)]"
      ]
     },
     "execution_count": 6,
     "metadata": {},
     "output_type": "execute_result"
    }
   ],
   "source": [
    "counter.most_common(100)"
   ]
  },
  {
   "cell_type": "code",
   "execution_count": 7,
   "metadata": {},
   "outputs": [],
   "source": [
    "target = '#NBA'\n",
    "outfile = open(target + '.txt', 'w')\n",
    "for t in tweets:\n",
    "    if target in re_hashtag.findall(t['text']):\n",
    "        outfile.write(json.dumps(t))\n",
    "        outfile.write('\\n')\n",
    "outfile.close()"
   ]
  },
  {
   "cell_type": "code",
   "execution_count": null,
   "metadata": {},
   "outputs": [],
   "source": []
  }
 ],
 "metadata": {
  "kernelspec": {
   "display_name": "Python 3",
   "language": "python",
   "name": "python3"
  },
  "language_info": {
   "codemirror_mode": {
    "name": "ipython",
    "version": 3
   },
   "file_extension": ".py",
   "mimetype": "text/x-python",
   "name": "python",
   "nbconvert_exporter": "python",
   "pygments_lexer": "ipython3",
   "version": "3.7.6"
  }
 },
 "nbformat": 4,
 "nbformat_minor": 4
}
